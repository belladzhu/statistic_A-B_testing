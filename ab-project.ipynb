{
 "cells": [
  {
   "cell_type": "markdown",
   "metadata": {},
   "source": [
    "###  1. A/B–тестирование"
   ]
  },
  {
   "cell_type": "markdown",
   "metadata": {},
   "source": [
    "В ходе тестирования одной гипотезы целевой группе была предложена новая механика оплаты услуг на сайте, у контрольной группы оставалась базовая механика. Необходимо проанализировать итоги эксперимента и сделать вывод, стоит ли запускать новую механику оплаты на всех пользователей."
   ]
  },
  {
   "cell_type": "code",
   "execution_count": 1,
   "metadata": {},
   "outputs": [],
   "source": [
    "import pandas as pd\n",
    "import numpy as np\n",
    "import matplotlib.pyplot as plt\n",
    "import seaborn as sns\n",
    "import scipy.stats as ss\n",
    "from tqdm.auto import tqdm\n",
    "%matplotlib inline"
   ]
  },
  {
   "cell_type": "code",
   "execution_count": 4,
   "metadata": {},
   "outputs": [],
   "source": [
    "groups = pd.read_csv('/mnt/HC_Volume_18315164/home-jupyter/jupyter-b-dzhumaeva-37/final_project_my/Проект_2_groups.csv', sep=';')\n",
    "groups_add = pd.read_csv('/mnt/HC_Volume_18315164/home-jupyter/jupyter-b-dzhumaeva-37/final_project_my/Проект_2_group_add.csv', \n",
    "                         sep=',')\n",
    "active_studs = pd.read_csv('/mnt/HC_Volume_18315164/home-jupyter/jupyter-b-dzhumaeva-37/final_project_my/Проект_2_active_studs.csv',\n",
    "                          sep=';')\n",
    "checks = pd.read_csv('/mnt/HC_Volume_18315164/home-jupyter/jupyter-b-dzhumaeva-37/final_project_my/Проект_2_checks.csv', sep=';')"
   ]
  },
  {
   "cell_type": "markdown",
   "metadata": {},
   "source": [
    "Посмотрим на входные данные"
   ]
  },
  {
   "cell_type": "markdown",
   "metadata": {},
   "source": [
    "***Таблица groups***"
   ]
  },
  {
   "cell_type": "code",
   "execution_count": 5,
   "metadata": {},
   "outputs": [
    {
     "data": {
      "text/html": [
       "<div>\n",
       "<style scoped>\n",
       "    .dataframe tbody tr th:only-of-type {\n",
       "        vertical-align: middle;\n",
       "    }\n",
       "\n",
       "    .dataframe tbody tr th {\n",
       "        vertical-align: top;\n",
       "    }\n",
       "\n",
       "    .dataframe thead th {\n",
       "        text-align: right;\n",
       "    }\n",
       "</style>\n",
       "<table border=\"1\" class=\"dataframe\">\n",
       "  <thead>\n",
       "    <tr style=\"text-align: right;\">\n",
       "      <th></th>\n",
       "      <th>id</th>\n",
       "      <th>grp</th>\n",
       "    </tr>\n",
       "  </thead>\n",
       "  <tbody>\n",
       "    <tr>\n",
       "      <th>0</th>\n",
       "      <td>1489</td>\n",
       "      <td>B</td>\n",
       "    </tr>\n",
       "    <tr>\n",
       "      <th>1</th>\n",
       "      <td>1627</td>\n",
       "      <td>A</td>\n",
       "    </tr>\n",
       "    <tr>\n",
       "      <th>2</th>\n",
       "      <td>1768</td>\n",
       "      <td>B</td>\n",
       "    </tr>\n",
       "    <tr>\n",
       "      <th>3</th>\n",
       "      <td>1783</td>\n",
       "      <td>B</td>\n",
       "    </tr>\n",
       "    <tr>\n",
       "      <th>4</th>\n",
       "      <td>1794</td>\n",
       "      <td>A</td>\n",
       "    </tr>\n",
       "  </tbody>\n",
       "</table>\n",
       "</div>"
      ],
      "text/plain": [
       "     id grp\n",
       "0  1489   B\n",
       "1  1627   A\n",
       "2  1768   B\n",
       "3  1783   B\n",
       "4  1794   A"
      ]
     },
     "execution_count": 5,
     "metadata": {},
     "output_type": "execute_result"
    }
   ],
   "source": [
    "groups.head()"
   ]
  },
  {
   "cell_type": "code",
   "execution_count": 6,
   "metadata": {},
   "outputs": [
    {
     "data": {
      "text/plain": [
       "id      int64\n",
       "grp    object\n",
       "dtype: object"
      ]
     },
     "execution_count": 6,
     "metadata": {},
     "output_type": "execute_result"
    }
   ],
   "source": [
    "groups.dtypes"
   ]
  },
  {
   "cell_type": "code",
   "execution_count": 7,
   "metadata": {},
   "outputs": [
    {
     "data": {
      "text/plain": [
       "(74484, 2)"
      ]
     },
     "execution_count": 7,
     "metadata": {},
     "output_type": "execute_result"
    }
   ],
   "source": [
    "groups.shape #количество записей"
   ]
  },
  {
   "cell_type": "code",
   "execution_count": 8,
   "metadata": {},
   "outputs": [
    {
     "data": {
      "text/plain": [
       "id     74484\n",
       "grp        2\n",
       "dtype: int64"
      ]
     },
     "execution_count": 8,
     "metadata": {},
     "output_type": "execute_result"
    }
   ],
   "source": [
    "groups.nunique() #уникальных значений"
   ]
  },
  {
   "cell_type": "code",
   "execution_count": 9,
   "metadata": {},
   "outputs": [
    {
     "data": {
      "text/plain": [
       "0"
      ]
     },
     "execution_count": 9,
     "metadata": {},
     "output_type": "execute_result"
    }
   ],
   "source": [
    "groups.duplicated().sum() #количество дупликатов"
   ]
  },
  {
   "cell_type": "code",
   "execution_count": 10,
   "metadata": {},
   "outputs": [
    {
     "data": {
      "text/plain": [
       "id     0\n",
       "grp    0\n",
       "dtype: int64"
      ]
     },
     "execution_count": 10,
     "metadata": {},
     "output_type": "execute_result"
    }
   ],
   "source": [
    "groups.isna().sum() #количество пустых строк"
   ]
  },
  {
   "cell_type": "markdown",
   "metadata": {},
   "source": [
    "***Таблица groups_add***"
   ]
  },
  {
   "cell_type": "code",
   "execution_count": 11,
   "metadata": {},
   "outputs": [
    {
     "data": {
      "text/html": [
       "<div>\n",
       "<style scoped>\n",
       "    .dataframe tbody tr th:only-of-type {\n",
       "        vertical-align: middle;\n",
       "    }\n",
       "\n",
       "    .dataframe tbody tr th {\n",
       "        vertical-align: top;\n",
       "    }\n",
       "\n",
       "    .dataframe thead th {\n",
       "        text-align: right;\n",
       "    }\n",
       "</style>\n",
       "<table border=\"1\" class=\"dataframe\">\n",
       "  <thead>\n",
       "    <tr style=\"text-align: right;\">\n",
       "      <th></th>\n",
       "      <th>id</th>\n",
       "      <th>grp</th>\n",
       "    </tr>\n",
       "  </thead>\n",
       "  <tbody>\n",
       "    <tr>\n",
       "      <th>0</th>\n",
       "      <td>5694584</td>\n",
       "      <td>B</td>\n",
       "    </tr>\n",
       "    <tr>\n",
       "      <th>1</th>\n",
       "      <td>5694830</td>\n",
       "      <td>B</td>\n",
       "    </tr>\n",
       "    <tr>\n",
       "      <th>2</th>\n",
       "      <td>5695057</td>\n",
       "      <td>B</td>\n",
       "    </tr>\n",
       "    <tr>\n",
       "      <th>3</th>\n",
       "      <td>5698872</td>\n",
       "      <td>B</td>\n",
       "    </tr>\n",
       "    <tr>\n",
       "      <th>4</th>\n",
       "      <td>5699067</td>\n",
       "      <td>B</td>\n",
       "    </tr>\n",
       "  </tbody>\n",
       "</table>\n",
       "</div>"
      ],
      "text/plain": [
       "        id grp\n",
       "0  5694584   B\n",
       "1  5694830   B\n",
       "2  5695057   B\n",
       "3  5698872   B\n",
       "4  5699067   B"
      ]
     },
     "execution_count": 11,
     "metadata": {},
     "output_type": "execute_result"
    }
   ],
   "source": [
    "groups_add.head()"
   ]
  },
  {
   "cell_type": "code",
   "execution_count": 12,
   "metadata": {},
   "outputs": [
    {
     "data": {
      "text/plain": [
       "id      int64\n",
       "grp    object\n",
       "dtype: object"
      ]
     },
     "execution_count": 12,
     "metadata": {},
     "output_type": "execute_result"
    }
   ],
   "source": [
    "groups_add.dtypes"
   ]
  },
  {
   "cell_type": "code",
   "execution_count": 13,
   "metadata": {},
   "outputs": [
    {
     "data": {
      "text/plain": [
       "(92, 2)"
      ]
     },
     "execution_count": 13,
     "metadata": {},
     "output_type": "execute_result"
    }
   ],
   "source": [
    "groups_add.shape"
   ]
  },
  {
   "cell_type": "code",
   "execution_count": 14,
   "metadata": {},
   "outputs": [
    {
     "data": {
      "text/plain": [
       "id     92\n",
       "grp     2\n",
       "dtype: int64"
      ]
     },
     "execution_count": 14,
     "metadata": {},
     "output_type": "execute_result"
    }
   ],
   "source": [
    "groups_add.nunique()"
   ]
  },
  {
   "cell_type": "code",
   "execution_count": 15,
   "metadata": {},
   "outputs": [
    {
     "data": {
      "text/plain": [
       "0"
      ]
     },
     "execution_count": 15,
     "metadata": {},
     "output_type": "execute_result"
    }
   ],
   "source": [
    "groups_add.duplicated().sum() "
   ]
  },
  {
   "cell_type": "code",
   "execution_count": 16,
   "metadata": {},
   "outputs": [
    {
     "data": {
      "text/plain": [
       "id     0\n",
       "grp    0\n",
       "dtype: int64"
      ]
     },
     "execution_count": 16,
     "metadata": {},
     "output_type": "execute_result"
    }
   ],
   "source": [
    "groups_add.isna().sum()"
   ]
  },
  {
   "cell_type": "markdown",
   "metadata": {},
   "source": [
    "***Таблица active_studs***"
   ]
  },
  {
   "cell_type": "code",
   "execution_count": 17,
   "metadata": {},
   "outputs": [
    {
     "data": {
      "text/html": [
       "<div>\n",
       "<style scoped>\n",
       "    .dataframe tbody tr th:only-of-type {\n",
       "        vertical-align: middle;\n",
       "    }\n",
       "\n",
       "    .dataframe tbody tr th {\n",
       "        vertical-align: top;\n",
       "    }\n",
       "\n",
       "    .dataframe thead th {\n",
       "        text-align: right;\n",
       "    }\n",
       "</style>\n",
       "<table border=\"1\" class=\"dataframe\">\n",
       "  <thead>\n",
       "    <tr style=\"text-align: right;\">\n",
       "      <th></th>\n",
       "      <th>student_id</th>\n",
       "    </tr>\n",
       "  </thead>\n",
       "  <tbody>\n",
       "    <tr>\n",
       "      <th>0</th>\n",
       "      <td>581585</td>\n",
       "    </tr>\n",
       "    <tr>\n",
       "      <th>1</th>\n",
       "      <td>5723133</td>\n",
       "    </tr>\n",
       "    <tr>\n",
       "      <th>2</th>\n",
       "      <td>3276743</td>\n",
       "    </tr>\n",
       "    <tr>\n",
       "      <th>3</th>\n",
       "      <td>4238589</td>\n",
       "    </tr>\n",
       "    <tr>\n",
       "      <th>4</th>\n",
       "      <td>4475369</td>\n",
       "    </tr>\n",
       "  </tbody>\n",
       "</table>\n",
       "</div>"
      ],
      "text/plain": [
       "   student_id\n",
       "0      581585\n",
       "1     5723133\n",
       "2     3276743\n",
       "3     4238589\n",
       "4     4475369"
      ]
     },
     "execution_count": 17,
     "metadata": {},
     "output_type": "execute_result"
    }
   ],
   "source": [
    "active_studs.head()"
   ]
  },
  {
   "cell_type": "code",
   "execution_count": 18,
   "metadata": {
    "scrolled": true
   },
   "outputs": [
    {
     "data": {
      "text/plain": [
       "student_id    int64\n",
       "dtype: object"
      ]
     },
     "execution_count": 18,
     "metadata": {},
     "output_type": "execute_result"
    }
   ],
   "source": [
    "active_studs.dtypes"
   ]
  },
  {
   "cell_type": "code",
   "execution_count": 19,
   "metadata": {},
   "outputs": [
    {
     "data": {
      "text/plain": [
       "(8341, 1)"
      ]
     },
     "execution_count": 19,
     "metadata": {},
     "output_type": "execute_result"
    }
   ],
   "source": [
    "active_studs.shape"
   ]
  },
  {
   "cell_type": "code",
   "execution_count": 20,
   "metadata": {},
   "outputs": [
    {
     "data": {
      "text/plain": [
       "student_id    8341\n",
       "dtype: int64"
      ]
     },
     "execution_count": 20,
     "metadata": {},
     "output_type": "execute_result"
    }
   ],
   "source": [
    "active_studs.nunique()"
   ]
  },
  {
   "cell_type": "code",
   "execution_count": 21,
   "metadata": {},
   "outputs": [
    {
     "data": {
      "text/plain": [
       "0"
      ]
     },
     "execution_count": 21,
     "metadata": {},
     "output_type": "execute_result"
    }
   ],
   "source": [
    "active_studs.duplicated().sum() "
   ]
  },
  {
   "cell_type": "code",
   "execution_count": 22,
   "metadata": {},
   "outputs": [
    {
     "data": {
      "text/plain": [
       "student_id    0\n",
       "dtype: int64"
      ]
     },
     "execution_count": 22,
     "metadata": {},
     "output_type": "execute_result"
    }
   ],
   "source": [
    "active_studs.isna().sum()"
   ]
  },
  {
   "cell_type": "markdown",
   "metadata": {},
   "source": [
    "***Таблица checks***"
   ]
  },
  {
   "cell_type": "code",
   "execution_count": 23,
   "metadata": {},
   "outputs": [
    {
     "data": {
      "text/html": [
       "<div>\n",
       "<style scoped>\n",
       "    .dataframe tbody tr th:only-of-type {\n",
       "        vertical-align: middle;\n",
       "    }\n",
       "\n",
       "    .dataframe tbody tr th {\n",
       "        vertical-align: top;\n",
       "    }\n",
       "\n",
       "    .dataframe thead th {\n",
       "        text-align: right;\n",
       "    }\n",
       "</style>\n",
       "<table border=\"1\" class=\"dataframe\">\n",
       "  <thead>\n",
       "    <tr style=\"text-align: right;\">\n",
       "      <th></th>\n",
       "      <th>student_id</th>\n",
       "      <th>rev</th>\n",
       "    </tr>\n",
       "  </thead>\n",
       "  <tbody>\n",
       "    <tr>\n",
       "      <th>0</th>\n",
       "      <td>1627</td>\n",
       "      <td>990.0</td>\n",
       "    </tr>\n",
       "    <tr>\n",
       "      <th>1</th>\n",
       "      <td>3185</td>\n",
       "      <td>690.0</td>\n",
       "    </tr>\n",
       "    <tr>\n",
       "      <th>2</th>\n",
       "      <td>25973</td>\n",
       "      <td>690.0</td>\n",
       "    </tr>\n",
       "    <tr>\n",
       "      <th>3</th>\n",
       "      <td>26280</td>\n",
       "      <td>690.0</td>\n",
       "    </tr>\n",
       "    <tr>\n",
       "      <th>4</th>\n",
       "      <td>100300</td>\n",
       "      <td>990.0</td>\n",
       "    </tr>\n",
       "  </tbody>\n",
       "</table>\n",
       "</div>"
      ],
      "text/plain": [
       "   student_id    rev\n",
       "0        1627  990.0\n",
       "1        3185  690.0\n",
       "2       25973  690.0\n",
       "3       26280  690.0\n",
       "4      100300  990.0"
      ]
     },
     "execution_count": 23,
     "metadata": {},
     "output_type": "execute_result"
    }
   ],
   "source": [
    "checks.head()"
   ]
  },
  {
   "cell_type": "code",
   "execution_count": 24,
   "metadata": {},
   "outputs": [
    {
     "data": {
      "text/plain": [
       "student_id      int64\n",
       "rev           float64\n",
       "dtype: object"
      ]
     },
     "execution_count": 24,
     "metadata": {},
     "output_type": "execute_result"
    }
   ],
   "source": [
    "checks.dtypes"
   ]
  },
  {
   "cell_type": "code",
   "execution_count": 25,
   "metadata": {},
   "outputs": [
    {
     "data": {
      "text/plain": [
       "(541, 2)"
      ]
     },
     "execution_count": 25,
     "metadata": {},
     "output_type": "execute_result"
    }
   ],
   "source": [
    "checks.shape"
   ]
  },
  {
   "cell_type": "code",
   "execution_count": 26,
   "metadata": {},
   "outputs": [
    {
     "data": {
      "text/plain": [
       "student_id    541\n",
       "rev            39\n",
       "dtype: int64"
      ]
     },
     "execution_count": 26,
     "metadata": {},
     "output_type": "execute_result"
    }
   ],
   "source": [
    "checks.nunique()"
   ]
  },
  {
   "cell_type": "code",
   "execution_count": 27,
   "metadata": {},
   "outputs": [
    {
     "data": {
      "text/plain": [
       "0"
      ]
     },
     "execution_count": 27,
     "metadata": {},
     "output_type": "execute_result"
    }
   ],
   "source": [
    "checks.duplicated().sum() "
   ]
  },
  {
   "cell_type": "code",
   "execution_count": 28,
   "metadata": {},
   "outputs": [
    {
     "data": {
      "text/plain": [
       "student_id    0\n",
       "rev           0\n",
       "dtype: int64"
      ]
     },
     "execution_count": 28,
     "metadata": {},
     "output_type": "execute_result"
    }
   ],
   "source": [
    "checks.isna().sum()"
   ]
  },
  {
   "cell_type": "markdown",
   "metadata": {},
   "source": [
    "Соединю дополнительный файл groups_add с groups и посмотрю на распределение пользователей по группам"
   ]
  },
  {
   "cell_type": "code",
   "execution_count": 29,
   "metadata": {},
   "outputs": [
    {
     "data": {
      "text/plain": [
       "(74576, 2)"
      ]
     },
     "execution_count": 29,
     "metadata": {},
     "output_type": "execute_result"
    }
   ],
   "source": [
    "groups_total = pd.concat([groups, groups_add])\n",
    "groups_total.shape"
   ]
  },
  {
   "cell_type": "code",
   "execution_count": 30,
   "metadata": {},
   "outputs": [
    {
     "data": {
      "text/plain": [
       "A    14693\n",
       "B    59883\n",
       "Name: grp, dtype: int64"
      ]
     },
     "execution_count": 30,
     "metadata": {},
     "output_type": "execute_result"
    }
   ],
   "source": [
    "#распределение по группам\n",
    "groups_total.grp.value_counts().sort_values()"
   ]
  },
  {
   "cell_type": "markdown",
   "metadata": {},
   "source": [
    "Таким образом, у нас всего 74576 пользователей и распределение по группам явно неравномерное.\\\n",
    "Проверим все ли пользователи заходили в приложение и совершали оплату, так как посещение сайта является условием для использования новой механики оплаты."
   ]
  },
  {
   "cell_type": "code",
   "execution_count": 31,
   "metadata": {},
   "outputs": [
    {
     "data": {
      "text/plain": [
       "0"
      ]
     },
     "execution_count": 31,
     "metadata": {},
     "output_type": "execute_result"
    }
   ],
   "source": [
    "#количество активных пользователей, не вошедших в общий список\n",
    "active_studs.query('student_id not in @groups_total.id').shape[0]"
   ]
  },
  {
   "cell_type": "code",
   "execution_count": 32,
   "metadata": {},
   "outputs": [
    {
     "data": {
      "text/plain": [
       "0"
      ]
     },
     "execution_count": 32,
     "metadata": {},
     "output_type": "execute_result"
    }
   ],
   "source": [
    "#количество совершивших оплату пользователей, но отсутствующих в общем списке\n",
    "checks.query('student_id not in @groups_total.id').shape[0]"
   ]
  },
  {
   "cell_type": "code",
   "execution_count": 33,
   "metadata": {},
   "outputs": [
    {
     "data": {
      "text/plain": [
       "149"
      ]
     },
     "execution_count": 33,
     "metadata": {},
     "output_type": "execute_result"
    }
   ],
   "source": [
    "#количество совершивших оплату пользователей, отсутствующих в списке активных в дни проведения теста\n",
    "checks.query('student_id not in @active_studs.student_id').shape[0]"
   ]
  },
  {
   "cell_type": "markdown",
   "metadata": {},
   "source": [
    "Видим, что в период проведения экспериментов были оплаты и от тех студентов (149), которые не посещали платформу. Возможно, это автоматические оплаты или сбой в системе. \\\n",
    "Посмотрим на распределение групп в checks и active_studs:"
   ]
  },
  {
   "cell_type": "code",
   "execution_count": 34,
   "metadata": {},
   "outputs": [
    {
     "data": {
      "text/plain": [
       "A    1538\n",
       "B    6803\n",
       "Name: grp, dtype: int64"
      ]
     },
     "execution_count": 34,
     "metadata": {},
     "output_type": "execute_result"
    }
   ],
   "source": [
    "#распределение активных пользователей по группа\n",
    "groups_total.query('id in @active_studs.student_id').grp.value_counts().sort_values()"
   ]
  },
  {
   "cell_type": "code",
   "execution_count": 35,
   "metadata": {},
   "outputs": [
    {
     "data": {
      "text/plain": [
       "B    434\n",
       "A    107\n",
       "Name: grp, dtype: int64"
      ]
     },
     "execution_count": 35,
     "metadata": {},
     "output_type": "execute_result"
    }
   ],
   "source": [
    "#совершившие оплату в группах\n",
    "groups_total.query('id in @checks.student_id').grp.value_counts()"
   ]
  },
  {
   "cell_type": "code",
   "execution_count": 36,
   "metadata": {},
   "outputs": [
    {
     "data": {
      "text/plain": [
       "B    314\n",
       "A     78\n",
       "Name: grp, dtype: int64"
      ]
     },
     "execution_count": 36,
     "metadata": {},
     "output_type": "execute_result"
    }
   ],
   "source": [
    "groups_total.query('id in @active_studs.student_id & id in @checks.student_id').grp.value_counts() \n",
    "#распределение активных  и совершивих оплату пользователей, всего 392"
   ]
  },
  {
   "cell_type": "markdown",
   "metadata": {},
   "source": [
    "#### Промежуточный вывод \n",
    "* Пользователи распределены по группам неравномерно. Группа B значительно больше, чем группа А.\n",
    "* У нас 74576 пользователей, из них 8341 являются активными, 541 совершили оплату. Из общего количества совершивших оплату (541), 392 являются активными - оплатившими. Не ясно, это сбой системы или автоматические платежи , поэтому не стану включать этих пользователей в AB-тест."
   ]
  },
  {
   "cell_type": "markdown",
   "metadata": {},
   "source": [
    "Я буду проверять гипотезы на активных и совершивших оплату пользователей, так как нецелесообразно проверять гипотезы эксперимента на пользователях, которые были отобраны, но в нем не участвовали\n",
    "#### Объединим все таблицы в один df и отфильтруем пользователей для AB-теста"
   ]
  },
  {
   "cell_type": "code",
   "execution_count": 37,
   "metadata": {},
   "outputs": [
    {
     "data": {
      "text/html": [
       "<div>\n",
       "<style scoped>\n",
       "    .dataframe tbody tr th:only-of-type {\n",
       "        vertical-align: middle;\n",
       "    }\n",
       "\n",
       "    .dataframe tbody tr th {\n",
       "        vertical-align: top;\n",
       "    }\n",
       "\n",
       "    .dataframe thead th {\n",
       "        text-align: right;\n",
       "    }\n",
       "</style>\n",
       "<table border=\"1\" class=\"dataframe\">\n",
       "  <thead>\n",
       "    <tr style=\"text-align: right;\">\n",
       "      <th></th>\n",
       "      <th>id</th>\n",
       "      <th>rev</th>\n",
       "    </tr>\n",
       "  </thead>\n",
       "  <tbody>\n",
       "    <tr>\n",
       "      <th>62</th>\n",
       "      <td>1184303</td>\n",
       "      <td>1530.0000</td>\n",
       "    </tr>\n",
       "    <tr>\n",
       "      <th>67</th>\n",
       "      <td>3354191</td>\n",
       "      <td>1900.0001</td>\n",
       "    </tr>\n",
       "    <tr>\n",
       "      <th>77</th>\n",
       "      <td>3278734</td>\n",
       "      <td>1900.0000</td>\n",
       "    </tr>\n",
       "    <tr>\n",
       "      <th>99</th>\n",
       "      <td>720651</td>\n",
       "      <td>1980.0000</td>\n",
       "    </tr>\n",
       "    <tr>\n",
       "      <th>193</th>\n",
       "      <td>1232221</td>\n",
       "      <td>1900.0000</td>\n",
       "    </tr>\n",
       "  </tbody>\n",
       "</table>\n",
       "</div>"
      ],
      "text/plain": [
       "          id        rev\n",
       "62   1184303  1530.0000\n",
       "67   3354191  1900.0001\n",
       "77   3278734  1900.0000\n",
       "99    720651  1980.0000\n",
       "193  1232221  1900.0000"
      ]
     },
     "execution_count": 37,
     "metadata": {},
     "output_type": "execute_result"
    }
   ],
   "source": [
    "active_checks = (\n",
    "                active_studs\n",
    "                .merge(checks, how='left', on='student_id')\n",
    "                .rename(columns={'student_id': 'id'})\n",
    "                )\n",
    "active_checks.query('rev.notna()').head() #список активных пользователей со списком оплативших"
   ]
  },
  {
   "cell_type": "code",
   "execution_count": 38,
   "metadata": {},
   "outputs": [],
   "source": [
    "#объединим активных оплативших из предыдущего шага с groups_total, оставив только активных\n",
    "active_total = groups_total.merge(active_checks, how='right', on='id')"
   ]
  },
  {
   "cell_type": "code",
   "execution_count": 39,
   "metadata": {},
   "outputs": [
    {
     "data": {
      "text/html": [
       "<div>\n",
       "<style scoped>\n",
       "    .dataframe tbody tr th:only-of-type {\n",
       "        vertical-align: middle;\n",
       "    }\n",
       "\n",
       "    .dataframe tbody tr th {\n",
       "        vertical-align: top;\n",
       "    }\n",
       "\n",
       "    .dataframe thead th {\n",
       "        text-align: right;\n",
       "    }\n",
       "</style>\n",
       "<table border=\"1\" class=\"dataframe\">\n",
       "  <thead>\n",
       "    <tr style=\"text-align: right;\">\n",
       "      <th></th>\n",
       "      <th>id</th>\n",
       "      <th>grp</th>\n",
       "      <th>rev</th>\n",
       "    </tr>\n",
       "  </thead>\n",
       "  <tbody>\n",
       "    <tr>\n",
       "      <th>0</th>\n",
       "      <td>581585</td>\n",
       "      <td>A</td>\n",
       "      <td>NaN</td>\n",
       "    </tr>\n",
       "    <tr>\n",
       "      <th>1</th>\n",
       "      <td>5723133</td>\n",
       "      <td>A</td>\n",
       "      <td>NaN</td>\n",
       "    </tr>\n",
       "    <tr>\n",
       "      <th>3</th>\n",
       "      <td>4238589</td>\n",
       "      <td>A</td>\n",
       "      <td>NaN</td>\n",
       "    </tr>\n",
       "    <tr>\n",
       "      <th>7</th>\n",
       "      <td>1394612</td>\n",
       "      <td>A</td>\n",
       "      <td>NaN</td>\n",
       "    </tr>\n",
       "    <tr>\n",
       "      <th>21</th>\n",
       "      <td>5194768</td>\n",
       "      <td>A</td>\n",
       "      <td>NaN</td>\n",
       "    </tr>\n",
       "  </tbody>\n",
       "</table>\n",
       "</div>"
      ],
      "text/plain": [
       "         id grp  rev\n",
       "0    581585   A  NaN\n",
       "1   5723133   A  NaN\n",
       "3   4238589   A  NaN\n",
       "7   1394612   A  NaN\n",
       "21  5194768   A  NaN"
      ]
     },
     "execution_count": 39,
     "metadata": {},
     "output_type": "execute_result"
    }
   ],
   "source": [
    "#активные пользователи группы А\n",
    "group_a = active_total.query('grp == \"A\"')\n",
    "group_a.head()"
   ]
  },
  {
   "cell_type": "code",
   "execution_count": 40,
   "metadata": {},
   "outputs": [
    {
     "data": {
      "text/html": [
       "<div>\n",
       "<style scoped>\n",
       "    .dataframe tbody tr th:only-of-type {\n",
       "        vertical-align: middle;\n",
       "    }\n",
       "\n",
       "    .dataframe tbody tr th {\n",
       "        vertical-align: top;\n",
       "    }\n",
       "\n",
       "    .dataframe thead th {\n",
       "        text-align: right;\n",
       "    }\n",
       "</style>\n",
       "<table border=\"1\" class=\"dataframe\">\n",
       "  <thead>\n",
       "    <tr style=\"text-align: right;\">\n",
       "      <th></th>\n",
       "      <th>id</th>\n",
       "      <th>grp</th>\n",
       "      <th>rev</th>\n",
       "    </tr>\n",
       "  </thead>\n",
       "  <tbody>\n",
       "    <tr>\n",
       "      <th>62</th>\n",
       "      <td>1184303</td>\n",
       "      <td>A</td>\n",
       "      <td>1530.0</td>\n",
       "    </tr>\n",
       "    <tr>\n",
       "      <th>99</th>\n",
       "      <td>720651</td>\n",
       "      <td>A</td>\n",
       "      <td>1980.0</td>\n",
       "    </tr>\n",
       "    <tr>\n",
       "      <th>306</th>\n",
       "      <td>4337103</td>\n",
       "      <td>A</td>\n",
       "      <td>580.0</td>\n",
       "    </tr>\n",
       "    <tr>\n",
       "      <th>392</th>\n",
       "      <td>332387</td>\n",
       "      <td>A</td>\n",
       "      <td>2910.0</td>\n",
       "    </tr>\n",
       "    <tr>\n",
       "      <th>439</th>\n",
       "      <td>1659434</td>\n",
       "      <td>A</td>\n",
       "      <td>690.0</td>\n",
       "    </tr>\n",
       "  </tbody>\n",
       "</table>\n",
       "</div>"
      ],
      "text/plain": [
       "          id grp     rev\n",
       "62   1184303   A  1530.0\n",
       "99    720651   A  1980.0\n",
       "306  4337103   A   580.0\n",
       "392   332387   A  2910.0\n",
       "439  1659434   A   690.0"
      ]
     },
     "execution_count": 40,
     "metadata": {},
     "output_type": "execute_result"
    }
   ],
   "source": [
    "#активные и совершившие оплату пользователи группы А\n",
    "group_a_paid = group_a.query('rev > 0')\n",
    "group_a_paid.head()"
   ]
  },
  {
   "cell_type": "code",
   "execution_count": 41,
   "metadata": {},
   "outputs": [
    {
     "data": {
      "text/html": [
       "<div>\n",
       "<style scoped>\n",
       "    .dataframe tbody tr th:only-of-type {\n",
       "        vertical-align: middle;\n",
       "    }\n",
       "\n",
       "    .dataframe tbody tr th {\n",
       "        vertical-align: top;\n",
       "    }\n",
       "\n",
       "    .dataframe thead th {\n",
       "        text-align: right;\n",
       "    }\n",
       "</style>\n",
       "<table border=\"1\" class=\"dataframe\">\n",
       "  <thead>\n",
       "    <tr style=\"text-align: right;\">\n",
       "      <th></th>\n",
       "      <th>id</th>\n",
       "      <th>grp</th>\n",
       "      <th>rev</th>\n",
       "    </tr>\n",
       "  </thead>\n",
       "  <tbody>\n",
       "    <tr>\n",
       "      <th>2</th>\n",
       "      <td>3276743</td>\n",
       "      <td>B</td>\n",
       "      <td>NaN</td>\n",
       "    </tr>\n",
       "    <tr>\n",
       "      <th>4</th>\n",
       "      <td>4475369</td>\n",
       "      <td>B</td>\n",
       "      <td>NaN</td>\n",
       "    </tr>\n",
       "    <tr>\n",
       "      <th>5</th>\n",
       "      <td>5481015</td>\n",
       "      <td>B</td>\n",
       "      <td>NaN</td>\n",
       "    </tr>\n",
       "    <tr>\n",
       "      <th>6</th>\n",
       "      <td>1353433</td>\n",
       "      <td>B</td>\n",
       "      <td>NaN</td>\n",
       "    </tr>\n",
       "    <tr>\n",
       "      <th>8</th>\n",
       "      <td>1170611</td>\n",
       "      <td>B</td>\n",
       "      <td>NaN</td>\n",
       "    </tr>\n",
       "  </tbody>\n",
       "</table>\n",
       "</div>"
      ],
      "text/plain": [
       "        id grp  rev\n",
       "2  3276743   B  NaN\n",
       "4  4475369   B  NaN\n",
       "5  5481015   B  NaN\n",
       "6  1353433   B  NaN\n",
       "8  1170611   B  NaN"
      ]
     },
     "execution_count": 41,
     "metadata": {},
     "output_type": "execute_result"
    }
   ],
   "source": [
    "#активные пользователи группы B\n",
    "group_b = active_total.query('grp == \"B\"')\n",
    "group_b.head()"
   ]
  },
  {
   "cell_type": "code",
   "execution_count": 42,
   "metadata": {},
   "outputs": [
    {
     "data": {
      "text/html": [
       "<div>\n",
       "<style scoped>\n",
       "    .dataframe tbody tr th:only-of-type {\n",
       "        vertical-align: middle;\n",
       "    }\n",
       "\n",
       "    .dataframe tbody tr th {\n",
       "        vertical-align: top;\n",
       "    }\n",
       "\n",
       "    .dataframe thead th {\n",
       "        text-align: right;\n",
       "    }\n",
       "</style>\n",
       "<table border=\"1\" class=\"dataframe\">\n",
       "  <thead>\n",
       "    <tr style=\"text-align: right;\">\n",
       "      <th></th>\n",
       "      <th>id</th>\n",
       "      <th>grp</th>\n",
       "      <th>rev</th>\n",
       "    </tr>\n",
       "  </thead>\n",
       "  <tbody>\n",
       "    <tr>\n",
       "      <th>67</th>\n",
       "      <td>3354191</td>\n",
       "      <td>B</td>\n",
       "      <td>1900.0001</td>\n",
       "    </tr>\n",
       "    <tr>\n",
       "      <th>77</th>\n",
       "      <td>3278734</td>\n",
       "      <td>B</td>\n",
       "      <td>1900.0000</td>\n",
       "    </tr>\n",
       "    <tr>\n",
       "      <th>193</th>\n",
       "      <td>1232221</td>\n",
       "      <td>B</td>\n",
       "      <td>1900.0000</td>\n",
       "    </tr>\n",
       "    <tr>\n",
       "      <th>195</th>\n",
       "      <td>3821501</td>\n",
       "      <td>B</td>\n",
       "      <td>1900.0000</td>\n",
       "    </tr>\n",
       "    <tr>\n",
       "      <th>211</th>\n",
       "      <td>1036096</td>\n",
       "      <td>B</td>\n",
       "      <td>1900.0000</td>\n",
       "    </tr>\n",
       "  </tbody>\n",
       "</table>\n",
       "</div>"
      ],
      "text/plain": [
       "          id grp        rev\n",
       "67   3354191   B  1900.0001\n",
       "77   3278734   B  1900.0000\n",
       "193  1232221   B  1900.0000\n",
       "195  3821501   B  1900.0000\n",
       "211  1036096   B  1900.0000"
      ]
     },
     "execution_count": 42,
     "metadata": {},
     "output_type": "execute_result"
    }
   ],
   "source": [
    "#активные и совершившие оплату пользователи группы B\n",
    "group_b_paid = group_b.query('rev > 0')\n",
    "group_b_paid.head()"
   ]
  },
  {
   "cell_type": "code",
   "execution_count": 43,
   "metadata": {},
   "outputs": [
    {
     "data": {
      "text/plain": [
       "<AxesSubplot:xlabel='rev', ylabel='Count'>"
      ]
     },
     "execution_count": 43,
     "metadata": {},
     "output_type": "execute_result"
    },
    {
     "data": {
      "image/png": "[encoded data removed]",
      "text/plain": [
       "<Figure size 792x576 with 1 Axes>"
      ]
     },
     "metadata": {},
     "output_type": "display_data"
    }
   ],
   "source": [
    "#посмотрим на распределение оплат активных пользователей\n",
    "sns.set(rc={'figure.figsize' : (11, 8)}, style=\"whitegrid\", palette=\"Set2\") #установлю размеры и стиль\n",
    "sns.histplot(data=active_total, x='rev', hue='grp', bins=39, multiple=\"stack\")"
   ]
  },
  {
   "cell_type": "markdown",
   "metadata": {},
   "source": [
    "Видим неравномерное распределение, посмотрим на выбросы с помощью боксплот"
   ]
  },
  {
   "cell_type": "code",
   "execution_count": 44,
   "metadata": {},
   "outputs": [
    {
     "data": {
      "image/png": "[encoded data removed]",
      "text/plain": [
       "<Figure size 792x576 with 1 Axes>"
      ]
     },
     "metadata": {},
     "output_type": "display_data"
    }
   ],
   "source": [
    "#посмотрим на выборосы:\n",
    "sns.boxplot(data=active_total, y='rev', x='grp')\n",
    "sns.despine()"
   ]
  },
  {
   "cell_type": "markdown",
   "metadata": {},
   "source": [
    "Из боксплот мы видим, что в наших данных есть выбросы, распределения оплат выглядят не равномерными, не унимодальными.\\\n",
    "\n",
    "В нашем случае, где присутствует оплата и проверяется новая механика оплаты, будет неправильным удалять выбросы, так как мы можем удалить из анализа клиентов с большими суммами оплат.\n",
    "\n",
    "Так же из-за выбросов сравнение средних в наших выборках будет некорректно. Значит, применение Т-критерия, который сравнивает средние в распределениях, а выбросы сильно влияют на значение среднего, будет неправильным."
   ]
  },
  {
   "cell_type": "markdown",
   "metadata": {},
   "source": [
    "#### Сформулирю предварительную гипотезу"
   ]
  },
  {
   "cell_type": "markdown",
   "metadata": {},
   "source": [
    "* H0 - Новая механика оплаты услуг на сайте в группе B не отличается от базовой механики котрольной группы A.\n",
    "* H1 - Новая механика оплаты услуг на сайте в группе B имеет значимые различия в сравнении с базовой механикой в группе A."
   ]
  },
  {
   "cell_type": "markdown",
   "metadata": {},
   "source": [
    "#### Выберу метрики"
   ]
  },
  {
   "cell_type": "markdown",
   "metadata": {},
   "source": [
    "Так как у нас есть две категориальные переменные - принадлежность к группе и факт оплаты (1 или 0)-  следует проверить коэффициент конверсии в целевое действие, а конкретно в оплату услуги на сайте (CR). Также проверим степень воздействия новой механики оплаты на среднее значение суммы оплаты (ARPPU). Ещё посчитаю ARPU вместе с ARPPU для просмотра степени воздействия на всех активных пользователей. \\\n",
    "Таким образом:\n",
    "\n",
    "* CR в оплату (сonversion rate) — отношение количества платящих пользователей к общему количеству пользователей.\\\n",
    "Переход в оплату услуги. CR будет выше в том варианте, где пользователю проще проивзести оплату.\n",
    "\n",
    "* ARPU - отношение всей выручки на количество активных пользователей.\n",
    "\n",
    "* ARPPU - отношение выручки на количество активных оплативших пользователей. "
   ]
  },
  {
   "cell_type": "code",
   "execution_count": 45,
   "metadata": {},
   "outputs": [
    {
     "data": {
      "text/html": [
       "<div>\n",
       "<style scoped>\n",
       "    .dataframe tbody tr th:only-of-type {\n",
       "        vertical-align: middle;\n",
       "    }\n",
       "\n",
       "    .dataframe tbody tr th {\n",
       "        vertical-align: top;\n",
       "    }\n",
       "\n",
       "    .dataframe thead th {\n",
       "        text-align: right;\n",
       "    }\n",
       "</style>\n",
       "<table border=\"1\" class=\"dataframe\">\n",
       "  <thead>\n",
       "    <tr style=\"text-align: right;\">\n",
       "      <th></th>\n",
       "      <th>students</th>\n",
       "      <th>paying_students</th>\n",
       "      <th>CR</th>\n",
       "      <th>average_check</th>\n",
       "      <th>repeat_purchases</th>\n",
       "      <th>arppu</th>\n",
       "      <th>arpu</th>\n",
       "    </tr>\n",
       "  </thead>\n",
       "  <tbody>\n",
       "    <tr>\n",
       "      <th>A</th>\n",
       "      <td>1538</td>\n",
       "      <td>78</td>\n",
       "      <td>5.07</td>\n",
       "      <td>933.59</td>\n",
       "      <td>1.0</td>\n",
       "      <td>933.59</td>\n",
       "      <td>4733.30</td>\n",
       "    </tr>\n",
       "    <tr>\n",
       "      <th>B</th>\n",
       "      <td>6803</td>\n",
       "      <td>314</td>\n",
       "      <td>4.62</td>\n",
       "      <td>1257.88</td>\n",
       "      <td>1.0</td>\n",
       "      <td>1257.88</td>\n",
       "      <td>5811.41</td>\n",
       "    </tr>\n",
       "  </tbody>\n",
       "</table>\n",
       "</div>"
      ],
      "text/plain": [
       "   students  paying_students    CR  average_check  repeat_purchases    arppu  \\\n",
       "A      1538               78  5.07         933.59               1.0   933.59   \n",
       "B      6803              314  4.62        1257.88               1.0  1257.88   \n",
       "\n",
       "      arpu  \n",
       "A  4733.30  \n",
       "B  5811.41  "
      ]
     },
     "execution_count": 45,
     "metadata": {},
     "output_type": "execute_result"
    }
   ],
   "source": [
    "#построим наглядную таблицу \n",
    "metrics = pd.DataFrame()\n",
    "metrics['students'] = active_total.groupby('grp').id.count()  #количество активных пользователей\n",
    "metrics['paying_students'] = active_total.groupby('grp').rev.count() #количество совершивших оплату\n",
    "metrics['CR'] = round(active_total.groupby('grp').rev.count() / active_total.groupby('grp').id.count() *100, 2) #конверсия \n",
    "metrics['average_check'] = round(active_total.groupby('grp').rev.mean(), 2) #средний чек\n",
    "metrics['repeat_purchases'] = active_total.groupby('grp').rev.count() / active_total.query('rev.notna()')\\\n",
    "                                          .groupby('grp').rev.count() #повторные покупки\n",
    "metrics['arppu'] = round(metrics['repeat_purchases'] * active_total.groupby('grp').rev.mean(), 2) #ARPPU\n",
    "metrics['arpu'] = round(metrics['CR']*metrics['arppu'], 2) #ARPU\n",
    "metrics"
   ]
  },
  {
   "cell_type": "markdown",
   "metadata": {},
   "source": [
    "#### Имеются ли различия в показателях и с чем они могут быть связаны?\n",
    "* Опять же видим, как пользователи распределены по группам неравномерно. Группа B значительно больше, чем группа А.\n",
    "* Наблюдаем небольшой отрицательный эффект CR (конверсия в покупку у группы А больше, чем у группы В), и положительные эффекты в ARPU и ARPPU. То есть, конверсия падает, но доход на пользователя/покупателя растёт. Такое может происходить, если пользователь попадает на сайт и начинает осуществлять ряд целевых действий. Конечный этап заключается в оплате услуги. До момента перехода пользователя на этап оплаты, новая механика оплаты не оказывает на него влияния, либо как в нашем случае конверсия перехода в оплату упал на 0.45 пунктов. Но когда пользователь совершил целевое действие и перешел на следующий этап (хочет оплатить услугу), то новая механика начинает работать. Причем в данном случае положительно, так как средний чек увеличился. Но этого не додостаточно, и отрицательные и положительные различия в показателях требуют статистических подтверждений.\n",
    "* ARPPU ожидаемо равна среднему чеку, так как на каждого совершившего оплату пользователя приходится по одной покупке (повторных покупок не было)."
   ]
  },
  {
   "cell_type": "markdown",
   "metadata": {},
   "source": [
    "#### Являются ли эти различия статистически значимыми?\n",
    "Для проверки стат значимости различий я выберу bootstrap, так как нет объективных причин НЕ использовать его. Объем данных ползволяет, размеры групп очень сильно отличаются, поэтому классические тесты могут давать большие погрешности. В таких случаях идеально подходит bootstrap. Гавным критерием будет, чтобы доверительный интервал не включал в себя 0\n",
    "\n",
    "* Строим bootstrap распределения для групп А и B.\n",
    "* Вычислим их разницу.\n",
    "* В получившемся рапределении разницы находим доверительных интервал.\n",
    "* Проверяем, попадает ли доверительный интервал в 0. Если да, то нулевая гипотеза на данном уровне значимости принимается, если нет - отвергается."
   ]
  },
  {
   "cell_type": "markdown",
   "metadata": {},
   "source": [
    "Напишем функцию, которая позволит проверять гипотезы с помощью bootstrap:"
   ]
  },
  {
   "cell_type": "code",
   "execution_count": 111,
   "metadata": {},
   "outputs": [],
   "source": [
    "# функция для проверки гипотез с помощью бутстрапа\n",
    "def get_bootstrap(\n",
    "    data_column_1,                       # числовые значения контрольной выборки\n",
    "    data_column_2,                       # числовые значения целевой выборки\n",
    "    col_1,                               #название колонки первой выборки\n",
    "    col_2,                               #название колонки второй выборки\n",
    "    sample_count_1 = 0,                  #количество наблюдений для подвыборок\n",
    "    sample_count_2 = 0,                  #количество наблюдений для подвыборок\n",
    "    boot_it = 10000,                     #количество бутстрэп-подвыборок\n",
    "    statistic = 'mean',                  #интересующая нас статистика\n",
    "    bootstrap_conf_level = 0.95,         #уровень значимости\n",
    "    replace = True,                      #параметр возвращения\n",
    "    max_len = True\n",
    "):\n",
    "    from scipy.stats import norm\n",
    "    \n",
    "    if sample_count_1 == 0:\n",
    "        sample_count_1 = len(data_column_1[col_1])\n",
    "    \n",
    "    if sample_count_2 == 0:\n",
    "        sample_count_2 = len(data_column_1[col_2])\n",
    "    if max_len:\n",
    "        boot_len = max([sample_count_1, sample_count_2])\n",
    "    else:\n",
    "        boot_len = min([sample_count_1, sample_count_2])\n",
    "    \n",
    "    boot_data = []\n",
    "    smpl_1_data = []\n",
    "    smpl_2_data = []\n",
    "    for i in tqdm(range(boot_it)):         #извлекаем подвыборки\n",
    "        if statistic == 'arpu':\n",
    "            samples_1 = arpu(data_column_1.sample(boot_len, replace=replace))\n",
    "            samples_2 = arpu(data_column_2.sample(boot_len, replace=replace))            \n",
    "        else:\n",
    "            samples_1 = np.nanmean(data_column_1[col_1].sample(boot_len, replace=replace).values)\n",
    "            samples_2 = np.nanmean(data_column_2[col_2].sample(boot_len, replace=replace).values)\n",
    "        \n",
    "        \n",
    "        boot_data.append(samples_1-samples_2)\n",
    "        smpl_1_data.append(samples_1)\n",
    "        smpl_2_data.append(samples_2)\n",
    "        \n",
    "    pd_boot_data = pd.DataFrame(boot_data)\n",
    "    \n",
    "    # доверительный интервал \n",
    "    left_quant = (1 - bootstrap_conf_level)/2\n",
    "    right_quant = 1 - (1 - bootstrap_conf_level) / 2\n",
    "    quants = pd_boot_data.quantile([left_quant, right_quant])\n",
    "        \n",
    "    p_1 = norm.cdf(\n",
    "        x = 0, \n",
    "        loc = np.nanmean(boot_data), \n",
    "        scale = np.nanstd(boot_data)\n",
    "    )\n",
    "    p_2 = norm.cdf(\n",
    "        x = 0, \n",
    "        loc = -np.nanmean(boot_data), \n",
    "        scale = np.nanstd(boot_data)\n",
    "    )\n",
    "    p_value = min(p_1, p_2) * 2\n",
    "        \n",
    "    #настройка визуализации\n",
    "    _, _, bars = plt.hist(pd_boot_data[0], bins = 30)\n",
    "    for bar in bars:\n",
    "        if bar.get_x() <= quants.iloc[0][0] or bar.get_x() >= quants.iloc[1][0]:\n",
    "            bar.set_facecolor('lightcoral')\n",
    "        else: \n",
    "            bar.set_facecolor('steelblue')\n",
    "            bar.set_edgecolor('lightskyblue')\n",
    "    \n",
    "    plt.style.use('ggplot')\n",
    "    plt.vlines(quants,ymin=0,ymax=50,linestyle='--')\n",
    "    plt.xlabel('boot_data')\n",
    "    plt.ylabel('frequency')\n",
    "    plt.title(\"Histogram of bootstrap\")\n",
    "    plt.show()\n",
    "    \n",
    "    print('pvalue = ', p_value)\n",
    "       \n",
    "    return {\"boot_data\" : boot_data, \n",
    "            \"quants\" : quants, \n",
    "            \"p_value\" : p_value,\n",
    "           \"smpl_1_data\" : smpl_1_data,\n",
    "           \"smpl_2_data\" : smpl_2_data}"
   ]
  },
  {
   "cell_type": "markdown",
   "metadata": {},
   "source": [
    "Определим функции для метрик. \\\n",
    "Для CR в качестве аргумента нужно будет передавать серию о факте оплаты со значениями  1 и 0, или True и False. В функции ARPPU нужно будет передавать серию, где отобраны только платежи."
   ]
  },
  {
   "cell_type": "code",
   "execution_count": 103,
   "metadata": {},
   "outputs": [],
   "source": [
    "#определим функции для метрик\n",
    "def cr_func(x):\n",
    "    return sum(x) / len(x)\n",
    "\n",
    "def arpu_func(x):\n",
    "    return np.mean(x)\n",
    "\n",
    "def arppu_func(y):\n",
    "    return np.mean(y)"
   ]
  },
  {
   "cell_type": "markdown",
   "metadata": {},
   "source": [
    "**Бутстрап по CR** \\\n",
    "Гипотеза:\\\n",
    "Н0: Конверсия в оплату в двух группах не отличается \\\n",
    "Н1: Конверсия в оплату в двух группах отличается"
   ]
  },
  {
   "cell_type": "code",
   "execution_count": 104,
   "metadata": {},
   "outputs": [
    {
     "data": {
      "text/html": [
       "<div>\n",
       "<style scoped>\n",
       "    .dataframe tbody tr th:only-of-type {\n",
       "        vertical-align: middle;\n",
       "    }\n",
       "\n",
       "    .dataframe tbody tr th {\n",
       "        vertical-align: top;\n",
       "    }\n",
       "\n",
       "    .dataframe thead th {\n",
       "        text-align: right;\n",
       "    }\n",
       "</style>\n",
       "<table border=\"1\" class=\"dataframe\">\n",
       "  <thead>\n",
       "    <tr style=\"text-align: right;\">\n",
       "      <th></th>\n",
       "      <th>id</th>\n",
       "      <th>grp</th>\n",
       "      <th>rev</th>\n",
       "      <th>payment</th>\n",
       "    </tr>\n",
       "  </thead>\n",
       "  <tbody>\n",
       "    <tr>\n",
       "      <th>0</th>\n",
       "      <td>581585</td>\n",
       "      <td>A</td>\n",
       "      <td>NaN</td>\n",
       "      <td>0</td>\n",
       "    </tr>\n",
       "    <tr>\n",
       "      <th>1</th>\n",
       "      <td>5723133</td>\n",
       "      <td>A</td>\n",
       "      <td>NaN</td>\n",
       "      <td>0</td>\n",
       "    </tr>\n",
       "    <tr>\n",
       "      <th>2</th>\n",
       "      <td>3276743</td>\n",
       "      <td>B</td>\n",
       "      <td>NaN</td>\n",
       "      <td>0</td>\n",
       "    </tr>\n",
       "    <tr>\n",
       "      <th>3</th>\n",
       "      <td>4238589</td>\n",
       "      <td>A</td>\n",
       "      <td>NaN</td>\n",
       "      <td>0</td>\n",
       "    </tr>\n",
       "    <tr>\n",
       "      <th>4</th>\n",
       "      <td>4475369</td>\n",
       "      <td>B</td>\n",
       "      <td>NaN</td>\n",
       "      <td>0</td>\n",
       "    </tr>\n",
       "  </tbody>\n",
       "</table>\n",
       "</div>"
      ],
      "text/plain": [
       "        id grp  rev  payment\n",
       "0   581585   A  NaN        0\n",
       "1  5723133   A  NaN        0\n",
       "2  3276743   B  NaN        0\n",
       "3  4238589   A  NaN        0\n",
       "4  4475369   B  NaN        0"
      ]
     },
     "execution_count": 104,
     "metadata": {},
     "output_type": "execute_result"
    }
   ],
   "source": [
    "#добавим колонку со статусом оплаты (0 - не оплачен, 1 - оплачен):\n",
    "active_total['payment'] = active_total.rev.apply(lambda x: 0 if np.isnan(x) else 1) \n",
    "active_total.query('rev.isna()').head()"
   ]
  },
  {
   "cell_type": "code",
   "execution_count": 112,
   "metadata": {},
   "outputs": [
    {
     "data": {
      "application/vnd.jupyter.widget-view+json": {
       "model_id": "4e7153b368264258a9b0e30b9f20f20b",
       "version_major": 2,
       "version_minor": 0
      },
      "text/plain": [
       "HBox(children=(FloatProgress(value=0.0, max=5000.0), HTML(value='')))"
      ]
     },
     "metadata": {},
     "output_type": "display_data"
    },
    {
     "name": "stdout",
     "output_type": "stream",
     "text": [
      "\n"
     ]
    },
    {
     "data": {
      "image/png": "[encoded data removed]",
      "text/plain": [
       "<Figure size 792x576 with 1 Axes>"
      ]
     },
     "metadata": {},
     "output_type": "display_data"
    },
    {
     "name": "stdout",
     "output_type": "stream",
     "text": [
      "pvalue =  0.5650643760546425\n"
     ]
    }
   ],
   "source": [
    "cr_boot = get_bootstrap(data_column_1 = active_total.query('grp == \"A\"'), col_1 = 'payment',\n",
    "                        data_column_2 = active_total.query('grp == \"B\"'), col_2 = 'payment',\n",
    "                        boot_it = 5000,\n",
    "                        statistic = 'cr_func')"
   ]
  },
  {
   "cell_type": "markdown",
   "metadata": {},
   "source": [
    "Группы всё-таки не отличаются друг от друга. Это видно по доверительному интервалу, который попадает в 0. Недостаточно оснований отвергнуть нулевую гипотезу. Нельзя утверждать, что различия CR в двух группах есть."
   ]
  },
  {
   "cell_type": "markdown",
   "metadata": {},
   "source": [
    "**Бутстрап по ARPU**\\\n",
    "Гипотеза:\\\n",
    "Н0: ARPU в двух группах не отличается \\\n",
    "Н1: ARPU в двух группах отличается"
   ]
  },
  {
   "cell_type": "code",
   "execution_count": 113,
   "metadata": {},
   "outputs": [
    {
     "data": {
      "application/vnd.jupyter.widget-view+json": {
       "model_id": "2843962d0e1343489f140a985b81af68",
       "version_major": 2,
       "version_minor": 0
      },
      "text/plain": [
       "HBox(children=(FloatProgress(value=0.0, max=5000.0), HTML(value='')))"
      ]
     },
     "metadata": {},
     "output_type": "display_data"
    },
    {
     "name": "stdout",
     "output_type": "stream",
     "text": [
      "\n"
     ]
    },
    {
     "data": {
      "image/png": "[encoded data removed]",
      "text/plain": [
       "<Figure size 792x576 with 1 Axes>"
      ]
     },
     "metadata": {},
     "output_type": "display_data"
    },
    {
     "name": "stdout",
     "output_type": "stream",
     "text": [
      "pvalue =  0.02177110717135273\n"
     ]
    }
   ],
   "source": [
    "arpu_boot = get_bootstrap(data_column_1 = group_a, col_1 = 'rev',\n",
    "                        data_column_2 = group_b, col_2 = 'rev',\n",
    "                        boot_it = 5000,\n",
    "                        statistic = 'arpu_func')"
   ]
  },
  {
   "cell_type": "markdown",
   "metadata": {},
   "source": [
    "**Вывод по бутстрапу по ARPU**:\\\n",
    "0 не попадает в доверительный интервал. Отвергаем нулевую гипотезу. ARPU в двух группах различаются."
   ]
  },
  {
   "cell_type": "markdown",
   "metadata": {},
   "source": [
    "**Бутстрап ARPPU**\\\n",
    "Гипотеза:\\\n",
    "Н0: ARPPU в двух группах не отличается \\\n",
    "Н1: ARPPU в двух группах отличается"
   ]
  },
  {
   "cell_type": "code",
   "execution_count": 114,
   "metadata": {
    "scrolled": true
   },
   "outputs": [
    {
     "data": {
      "application/vnd.jupyter.widget-view+json": {
       "model_id": "0f2337ff984e4fa9bbc6203fdc8a6376",
       "version_major": 2,
       "version_minor": 0
      },
      "text/plain": [
       "HBox(children=(FloatProgress(value=0.0, max=5000.0), HTML(value='')))"
      ]
     },
     "metadata": {},
     "output_type": "display_data"
    },
    {
     "name": "stdout",
     "output_type": "stream",
     "text": [
      "\n"
     ]
    },
    {
     "data": {
      "image/png": "[encoded data removed]",
      "text/plain": [
       "<Figure size 792x576 with 1 Axes>"
      ]
     },
     "metadata": {},
     "output_type": "display_data"
    },
    {
     "name": "stdout",
     "output_type": "stream",
     "text": [
      "pvalue =  0.016688592241146598\n"
     ]
    }
   ],
   "source": [
    "arppu_boot = get_bootstrap(data_column_1 = group_a_paid, col_1 = 'rev',\n",
    "                        data_column_2 = group_b_paid, col_2 = 'rev',\n",
    "                        boot_it = 5000,\n",
    "                        statistic = 'arppu_func')"
   ]
  },
  {
   "cell_type": "markdown",
   "metadata": {},
   "source": [
    "**Вывод по бутстрапу по ARPPU**:\\\n",
    "Доверительный интервал не включает в себя 0. Отвергаем нулевую гипотезу. ARPPU в двух группах различаются. Очень малое количество наблюдений из двух выборок пересекаются между собой."
   ]
  },
  {
   "cell_type": "markdown",
   "metadata": {},
   "source": [
    "#### Стоит ли запускать новую механику на всех пользователей?\n",
    "Напомним основные гипотезы:\n",
    "* H0 - Новая механика оплаты услуг на сайте в группе B не отличается от старой механики, оставленной в группе A.\n",
    "* H1 - Новая механика оплаты услуг на сайте в группе B имеет значимые различия в сравнении с механикой в группе A. \\"
   ]
  },
  {
   "cell_type": "markdown",
   "metadata": {},
   "source": [
    "Напомним выводы по тестам:\n",
    "* Бутстрап по CR показал pvalue > 0.05. Это не дало нам основания отвергнуть нулевую гипотезу.\n",
    "* Бутстрап по ARPU показал pvalue < 0.05. Есть основания отвергнуть нулевую гипотезу.\n",
    "* Бутстрап по ARPPU показал pvalue < 0.05. Это дает нам основания отвергнуть нулевую гипотезу."
   ]
  },
  {
   "cell_type": "markdown",
   "metadata": {},
   "source": [
    "Таким образом, согласно проведенным тестам  новая механика оплаты даёт статистически значимый прирост в метриках ARPU и ARPPU. Имеет смысл применить новую механику оплаты услуг на всех пользователей. При этом в дальнейшем следить за метриками. Особенно за коэффициентом конверсии перехода к оплате. \\\n",
    "Однако стоит еще отметить, что так как система сплитования делит пользователей на группы неравномерно, в результате мы тестируем изменения на 85% наших активных пользователей. В будущем неудачный эксперимент в таком объеме может привести к значительному падению выручки.\\\n",
    "В идеале нужно было выделить больше пользователей для группы А, потому что из-за малого количества уникальных пользователей в группе А мы можем столкнуться с ситуацией, когда тесты показали статистически значимые различия, а в генеральной совокупности эти различий может не оказаться, либо различия будут в пользу базовой механики оплаты услуг на сайте."
   ]
  },
  {
   "cell_type": "code",
   "execution_count": null,
   "metadata": {},
   "outputs": [],
   "source": []
  },
  {
   "cell_type": "markdown",
   "metadata": {},
   "source": [
    "### 2. SQL"
   ]
  },
  {
   "cell_type": "markdown",
   "metadata": {},
   "source": [
    "#### 2.1 Очень усердные ученики\n",
    "Необходимо написать оптимальный запрос, который даст информацию о количестве очень усердных студентов. \\\n",
    "NB! Под усердным студентом мы понимаем студента, который правильно решил 20 задач за текущий месяц."
   ]
  },
  {
   "cell_type": "code",
   "execution_count": 25,
   "metadata": {},
   "outputs": [],
   "source": [
    "import pandahouse as ph"
   ]
  },
  {
   "cell_type": "code",
   "execution_count": 24,
   "metadata": {},
   "outputs": [],
   "source": [
    "#Установим соединение с Clickhouse\n",
    "connection_default = {'host': 'https://clickhouse.lab.karpov.courses/',\n",
    "                      'database':'default',\n",
    "                      'user':'student', \n",
    "                      'password':'dpo_python_2020'\n",
    "                     }"
   ]
  },
  {
   "cell_type": "code",
   "execution_count": 29,
   "metadata": {
    "scrolled": true
   },
   "outputs": [
    {
     "data": {
      "text/html": [
       "<div>\n",
       "<style scoped>\n",
       "    .dataframe tbody tr th:only-of-type {\n",
       "        vertical-align: middle;\n",
       "    }\n",
       "\n",
       "    .dataframe tbody tr th {\n",
       "        vertical-align: top;\n",
       "    }\n",
       "\n",
       "    .dataframe thead th {\n",
       "        text-align: right;\n",
       "    }\n",
       "</style>\n",
       "<table border=\"1\" class=\"dataframe\">\n",
       "  <thead>\n",
       "    <tr style=\"text-align: right;\">\n",
       "      <th></th>\n",
       "      <th>hardworking_students</th>\n",
       "    </tr>\n",
       "  </thead>\n",
       "  <tbody>\n",
       "    <tr>\n",
       "      <th>0</th>\n",
       "      <td>136</td>\n",
       "    </tr>\n",
       "  </tbody>\n",
       "</table>\n",
       "</div>"
      ],
      "text/plain": [
       "   hardworking_students\n",
       "0                   136"
      ]
     },
     "execution_count": 29,
     "metadata": {},
     "output_type": "execute_result"
    }
   ],
   "source": [
    "query_1 = \"\"\"\n",
    "    SELECT COUNT(DISTINCT st_id) AS hardworking_students         --- считаем количество отобранных уникальных студентов \n",
    "    FROM(\n",
    "        SELECT st_id,\n",
    "               SUM(correct) AS peas                              --- считаем кличество правильно решённых горошин\n",
    "        FROM default.peas\n",
    "        WHERE correct = 1\n",
    "        group by st_id) t1\n",
    "    where peas >= 20  \n",
    "    \"\"\"\n",
    "studs_count = ph.read_clickhouse(query_1, connection=connection_default)\n",
    "studs_count"
   ]
  },
  {
   "cell_type": "markdown",
   "metadata": {},
   "source": [
    "Данные в default.peas за 10-2021, всего 2 дня."
   ]
  },
  {
   "cell_type": "markdown",
   "metadata": {},
   "source": [
    "#### 2.2 Оптимизация воронки\n",
    "Необходимо в одном запросе выгрузить следующие метрики: \n",
    "* ARPU (Average Revenue Per User) — средняя выручка на одного пользователя за период.\n",
    "* ARPAU (Average Revenue Per Active User) - средняя выручка на одного активного пользователя за период.\n",
    "* CR в покупку (сonversion rate) —  отношение количества платящих пользователей к общему количеству пользователей.\n",
    "* СR активного пользователя в покупку - отношение количества платящих пользователей к общему количеству активных пользователей.\n",
    "* CR пользователя из активности по математике (subject = ’math’) в покупку курса по математике - отношение количества платящих  в математике пользователей к общему количеству активных в математике пользователей."
   ]
  },
  {
   "cell_type": "markdown",
   "metadata": {},
   "source": [
    "*Активным* считается пользователь, за все время решивший больше 10 задач правильно в любых дисциплинах.\\\n",
    "*Активным по математике* считается пользователь, за все время решивший 2 или больше задач правильно по математике."
   ]
  },
  {
   "cell_type": "code",
   "execution_count": 33,
   "metadata": {},
   "outputs": [
    {
     "data": {
      "text/html": [
       "<div>\n",
       "<style scoped>\n",
       "    .dataframe tbody tr th:only-of-type {\n",
       "        vertical-align: middle;\n",
       "    }\n",
       "\n",
       "    .dataframe tbody tr th {\n",
       "        vertical-align: top;\n",
       "    }\n",
       "\n",
       "    .dataframe thead th {\n",
       "        text-align: right;\n",
       "    }\n",
       "</style>\n",
       "<table border=\"1\" class=\"dataframe\">\n",
       "  <thead>\n",
       "    <tr style=\"text-align: right;\">\n",
       "      <th></th>\n",
       "      <th>test_grp</th>\n",
       "      <th>ARPU</th>\n",
       "      <th>ARPAU</th>\n",
       "      <th>CR</th>\n",
       "      <th>CR_active</th>\n",
       "      <th>CR_active_math</th>\n",
       "    </tr>\n",
       "  </thead>\n",
       "  <tbody>\n",
       "    <tr>\n",
       "      <th>0</th>\n",
       "      <td>control</td>\n",
       "      <td>4540.98</td>\n",
       "      <td>10905.51</td>\n",
       "      <td>0.05</td>\n",
       "      <td>0.11</td>\n",
       "      <td>0.06</td>\n",
       "    </tr>\n",
       "    <tr>\n",
       "      <th>1</th>\n",
       "      <td>pilot</td>\n",
       "      <td>11508.47</td>\n",
       "      <td>35364.58</td>\n",
       "      <td>0.11</td>\n",
       "      <td>0.26</td>\n",
       "      <td>0.10</td>\n",
       "    </tr>\n",
       "  </tbody>\n",
       "</table>\n",
       "</div>"
      ],
      "text/plain": [
       "  test_grp      ARPU     ARPAU    CR  CR_active  CR_active_math\n",
       "0  control   4540.98  10905.51  0.05       0.11            0.06\n",
       "1    pilot  11508.47  35364.58  0.11       0.26            0.10"
      ]
     },
     "execution_count": 33,
     "metadata": {},
     "output_type": "execute_result"
    }
   ],
   "source": [
    "query_2 = \"\"\"\n",
    "    SELECT \n",
    "    test_grp, \n",
    "    ROUND(SUM(revenue)/COUNT(studs.st_id), 2) AS ARPU, \n",
    "    ROUND(SUM(revenue)/SUM(active_total), 2) as ARPAU, \n",
    "    ROUND(SUM(paid) / COUNT(studs.st_id), 2) AS CR, \n",
    "    ROUND(SUM(CASE WHEN active_total > 0 THEN paid ELSE 0 END) / SUM(active_total), 2) AS CR_active, \n",
    "    ROUND(SUM(CASE WHEN cnt_math_payed = 1 and active_in_math = 1 THEN 1 ELSE 0 END) / SUM(active_in_math), 2) AS CR_active_math \n",
    "    FROM \n",
    "    ( \n",
    "        SELECT studs.st_id, test_grp, revenue, cnt_math_payed, \n",
    "        CASE WHEN math_tasks >= 2 THEN 1 ELSE 0 END active_in_math, ---условие для активных по Math\n",
    "        CASE WHEN total_tasks > 10 THEN 1 ELSE 0 END active_total, --- условие для активных пользователей \n",
    "        CASE WHEN revenue > 0 THEN 1 ELSE 0 end paid --- отбираем платящих пользователей по любым предметам и по математике\n",
    "        FROM default.studs \n",
    "        left join \n",
    "        (   --- отбираем платящих пользователей по любым предметам и по математике\n",
    "            SELECT st_id, \n",
    "            MAX(CASE WHEN subject = 'Math' THEN 1 ELSE 0 END) AS cnt_math_payed, --- количество оплативших по Math\n",
    "            SUM(money) AS revenue --- общая выручка\n",
    "            FROM default.final_project_check \n",
    "            GROUP BY st_id \n",
    "        ) AS a ON studs.st_id = a.st_id \n",
    "        left join ( \n",
    "                    SELECT \n",
    "                    st_id, \n",
    "                    SUM(CASE WHEN subject = 'Math' THEN 1 ELSE 0 END) math_tasks, \n",
    "                    SUM(correct) total_tasks \n",
    "                    FROM peas \n",
    "                    WHERE correct = 1 \n",
    "                    GROUP BY st_id \n",
    "                    HAVING math_tasks >= 2 OR total_tasks > 10 ---условие для активных и активных по Math\"\n",
    "                    ) AS b ON studs.st_id = b.st_id \n",
    "                  ) \n",
    "    GROUP BY test_grp\n",
    "    \"\"\"\n",
    "studs_metrics = ph.read_clickhouse(query_2, connection=connection_default)\n",
    "studs_metrics"
   ]
  },
  {
   "cell_type": "code",
   "execution_count": null,
   "metadata": {},
   "outputs": [],
   "source": []
  },
  {
   "cell_type": "markdown",
   "metadata": {},
   "source": [
    "### 3. Python"
   ]
  },
  {
   "cell_type": "markdown",
   "metadata": {},
   "source": [
    "1. Реализую функцию, которая будет автоматически подгружать информацию из дополнительного файла groups_add.csv и на основании дополнительных параметров пересчитывать метрики."
   ]
  },
  {
   "cell_type": "code",
   "execution_count": 26,
   "metadata": {},
   "outputs": [],
   "source": [
    "def get_update(groups_data, groups_add_data, active_studs_data, checks_data):\n",
    "\n",
    "    \n",
    "    #считывание данных\n",
    "    groups = pd.read_csv('/mnt/HC_Volume_18315164/home-jupyter/jupyter-b-dzhumaeva-37/final_project/Проект_2_groups.csv', sep=';')\n",
    "    groups_add = pd.read_csv('/mnt/HC_Volume_18315164/home-jupyter/jupyter-b-dzhumaeva-37/final_project/Проект_2_group_add.csv', \n",
    "                         sep=',')\n",
    "    active_studs = pd.read_csv('/mnt/HC_Volume_18315164/home-jupyter/jupyter-b-dzhumaeva-37/final_project/Проект_2_active_studs.csv',\n",
    "                          sep=';')\n",
    "    checks = pd.read_csv('/mnt/HC_Volume_18315164/home-jupyter/jupyter-b-dzhumaeva-37/final_project/Проект_2_checks.csv', sep=';')\n",
    "        \n",
    "    #замена заголовков в новом датафрейме\n",
    "    original_names = groups_add.columns.values\n",
    "    new_names = groups.columns.values\n",
    "    new_columns = dict(zip(original_names, new_names))\n",
    "    groups_add.rename(columns=new_columns)\n",
    "\n",
    "    #соединение groups и groups_add\n",
    "    groups_all = pd.concat([groups, groups_add]).reset_index(drop=True)\n",
    "    \n",
    "    #соединение оставшихся \n",
    "    active_studs = active_studs.merge(groups_all, how='left', left_on='student_id', right_on='id').drop(columns=['id'])\n",
    "    checks = checks.merge(groups_all, how='left', left_on='student_id', right_on='id').drop(columns=['id'])\n",
    "    \n",
    "    # расчет метрик\n",
    "    metrics = {}\n",
    "    \n",
    "    # ARPPU\n",
    "    ARPPU_table = checks.groupby('grp', as_index=False).agg({'rev': 'sum', 'student_id': 'nunique'})\n",
    "    ARPPU_table.rename(columns={'rev': 'total_revenue', 'student_id': 'paying_users_count'}, inplace=True)\n",
    "    ARPPU_table['ARPPU'] = ARPPU_table['total_revenue'] / ARPPU_table['paying_users_count']\n",
    "    metrics['ARPPU'] = {'A': ARPPU_table.query('grp == \"A\"')['ARPPU'].values[0], \n",
    "                        'B': ARPPU_table.query('grp == \"B\"')['ARPPU'].values[0]}\n",
    "    \n",
    "    # ARPU\n",
    "    # количество пользователей по группам\n",
    "    ARPU_table = groups_all.groupby('grp', as_index=False).agg(users_count=('id', 'nunique'))\n",
    "    ARPU_table['total_revenue'] = ARPPU_table['total_revenue']\n",
    "    ARPU_table['ARPU'] = ARPU_table['total_revenue'] / ARPU_table['users_count']\n",
    "    metrics['ARPU'] = {'A': ARPU_table.query('grp == \"A\"')['ARPU'].values[0], \n",
    "                       'B': ARPU_table.query('grp == \"B\"')['ARPU'].values[0]}\n",
    "    \n",
    "    # CR\n",
    "    CR_table = ARPPU_table[['grp', 'paying_users_count']].merge(ARPU_table[['grp', 'users_count']], how='left', on='grp')\n",
    "    CR_table['CR'] = CR_table['paying_users_count'] * 100 / CR_table['users_count']\n",
    "    metrics['CR'] = {'A': CR_table.query('grp == \"A\"')['CR'].values[0], \n",
    "                     'B': CR_table.query('grp == \"B\"')['CR'].values[0]}\n",
    "    \n",
    "\n",
    "    return metrics"
   ]
  },
  {
   "cell_type": "code",
   "execution_count": 27,
   "metadata": {},
   "outputs": [],
   "source": [
    "result_metrics = get_update(groups, groups_add, active_studs, checks)"
   ]
  },
  {
   "cell_type": "code",
   "execution_count": 56,
   "metadata": {},
   "outputs": [
    {
     "data": {
      "text/html": [
       "<div>\n",
       "<style scoped>\n",
       "    .dataframe tbody tr th:only-of-type {\n",
       "        vertical-align: middle;\n",
       "    }\n",
       "\n",
       "    .dataframe tbody tr th {\n",
       "        vertical-align: top;\n",
       "    }\n",
       "\n",
       "    .dataframe thead th {\n",
       "        text-align: right;\n",
       "    }\n",
       "</style>\n",
       "<table border=\"1\" class=\"dataframe\">\n",
       "  <thead>\n",
       "    <tr style=\"text-align: right;\">\n",
       "      <th></th>\n",
       "      <th>group</th>\n",
       "      <th>ARPPU</th>\n",
       "      <th>ARPU</th>\n",
       "      <th>CR</th>\n",
       "    </tr>\n",
       "  </thead>\n",
       "  <tbody>\n",
       "    <tr>\n",
       "      <th>0</th>\n",
       "      <td>A</td>\n",
       "      <td>860.710280</td>\n",
       "      <td>6.268019</td>\n",
       "      <td>0.728238</td>\n",
       "    </tr>\n",
       "    <tr>\n",
       "      <th>1</th>\n",
       "      <td>B</td>\n",
       "      <td>1108.824893</td>\n",
       "      <td>8.036171</td>\n",
       "      <td>0.724747</td>\n",
       "    </tr>\n",
       "  </tbody>\n",
       "</table>\n",
       "</div>"
      ],
      "text/plain": [
       "  group        ARPPU      ARPU        CR\n",
       "0     A   860.710280  6.268019  0.728238\n",
       "1     B  1108.824893  8.036171  0.724747"
      ]
     },
     "execution_count": 56,
     "metadata": {},
     "output_type": "execute_result"
    }
   ],
   "source": [
    "# вывод в виде датафрейма\n",
    "result_metrics = pd.DataFrame(result_metrics).reset_index().rename(columns={'index': 'group'})\n",
    "result_metrics"
   ]
  },
  {
   "cell_type": "markdown",
   "metadata": {},
   "source": [
    "2. Реализую функцию, которая будет строить графики по получаемым метрикам."
   ]
  },
  {
   "cell_type": "code",
   "execution_count": 81,
   "metadata": {},
   "outputs": [],
   "source": [
    "def metrics_charts(metrics):  \n",
    "    #установим размер\n",
    "    plt.figure(figsize=(20, 6))\n",
    "    #график ARPPU\n",
    "    plt.subplot(1, 3, 1)\n",
    "    bar = sns.barplot(x='group', y='ARPPU', data=result_metrics)\n",
    "    #назначаем названия\n",
    "    bar.axes.set_title('График ARPPU', fontsize=16) \n",
    "    bar.set_xlabel('Group', fontsize=12)\n",
    "    bar.set_ylabel('ARPPU', fontsize=12)\n",
    "    bar.bar_label(bar.containers[0]) #показываем значения столбцов\n",
    "    plt.xticks(fontsize=12)\n",
    "    plt.yticks(fontsize=12) \n",
    "    #график ARPU\n",
    "    plt.subplot(1, 3, 2)\n",
    "    bar = sns.barplot(x='group', y='ARPU', data=result_metrics)\n",
    "    bar.axes.set_title('График ARPU', fontsize=16)\n",
    "    bar.set_xlabel('Group', fontsize=12)\n",
    "    bar.set_ylabel('ARPU', fontsize=12)\n",
    "    bar.bar_label(bar.containers[0]) #показываем значения столбцов\n",
    "    plt.xticks(fontsize=12)\n",
    "    plt.yticks(fontsize=12)  \n",
    "    #график CR\n",
    "    plt.subplot(1, 3, 3)\n",
    "    bar = sns.barplot(x='group', y='CR', data=result_metrics)\n",
    "    bar.axes.set_title(\"График CR\", fontsize=16)\n",
    "    bar.set_xlabel('Group', fontsize=12)\n",
    "    bar.set_ylabel('CR ', fontsize=12)\n",
    "    bar.bar_label(bar.containers[0]) #показываем значения столбцов\n",
    "    plt.xticks(fontsize=12)\n",
    "    plt.yticks(fontsize=12) "
   ]
  },
  {
   "cell_type": "code",
   "execution_count": 82,
   "metadata": {},
   "outputs": [
    {
     "data": {
      "image/png": "[encoded data removed]",
      "text/plain": [
       "<Figure size 1440x432 with 3 Axes>"
      ]
     },
     "metadata": {
      "needs_background": "light"
     },
     "output_type": "display_data"
    }
   ],
   "source": [
    "# вызов функции для визуализации\n",
    "metrics_charts(result_metrics)"
   ]
  }
 ],
 "metadata": {
  "kernelspec": {
   "display_name": "Python 3",
   "language": "python",
   "name": "python3"
  },
  "language_info": {
   "codemirror_mode": {
    "name": "ipython",
    "version": 3
   },
   "file_extension": ".py",
   "mimetype": "text/x-python",
   "name": "python",
   "nbconvert_exporter": "python",
   "pygments_lexer": "ipython3",
   "version": "3.7.3"
  }
 },
 "nbformat": 4,
 "nbformat_minor": 4
}
